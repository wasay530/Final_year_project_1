{
  "nbformat": 4,
  "nbformat_minor": 0,
  "metadata": {
    "colab": {
      "name": "Mask R-CNN Person Localization and Crowd Sourcing in Aerial Images",
      "provenance": [],
      "collapsed_sections": [],
      "toc_visible": true,
      "include_colab_link": true
    },
    "kernelspec": {
      "name": "python3",
      "display_name": "Python 3"
    },
    "accelerator": "TPU"
  },
  "cells": [
    {
      "cell_type": "markdown",
      "metadata": {
        "id": "view-in-github",
        "colab_type": "text"
      },
      "source": [
        "<a href=\"https://colab.research.google.com/github/wasay530/Final_year_project_1/blob/master/Mask_R_CNN_Person_Localization_and_Crowd_Sourcing_in_Aerial_Images.ipynb\" target=\"_parent\"><img src=\"https://colab.research.google.com/assets/colab-badge.svg\" alt=\"Open In Colab\"/></a>"
      ]
    },
    {
      "cell_type": "markdown",
      "metadata": {
        "id": "t_iHs_wm2Mhh",
        "colab_type": "text"
      },
      "source": [
        "# Mask R-CNN Algorithm for Person Detection and Crowd Sourcing in Aerial Images\n",
        "Mask R-CNN model that was trained on Cloud TPU to perform instance segmentation on a sample input image. The resulting predictions are overlayed on the sample image as boxes, instance masks, and labels. \n",
        "\n",
        "### About Mask R-CNN\n",
        "The Mask R-CNN model addresses one of the most difficult computer vision challenges: image segmentation. Image segmentation is the task of detecting and distinguishing multiple objects within a single image. In particular, Mask R-CNN performs \"instance segmentation,\" which means that different instances of the same type of object in the input image, for example, Person, should be assigned distinct labels."
      ]
    },
    {
      "cell_type": "markdown",
      "metadata": {
        "id": "DL_0tSC67biu",
        "colab_type": "text"
      },
      "source": [
        "# Instructions\n",
        "<h3><a href=\"https://cloud.google.com/tpu/\"><img valign=\"middle\" src=\"https://raw.githubusercontent.com/GoogleCloudPlatform/tensorflow-without-a-phd/master/tensorflow-rl-pong/images/tpu-hexagon.png\" width=\"50\"></a>  &nbsp;&nbsp;Use a free Cloud TPU</h3>\n",
        " \n",
        "   1. On the main menu, click Runtime and select **Change runtime type**. Set \"TPU\" as the hardware accelerator.\n",
        "   2. Click Runtime again and select **Runtime > Run All**. You can also run the cells manually with Shift-ENTER."
      ]
    },
    {
      "cell_type": "code",
      "metadata": {
        "id": "rUaCGBUQFgiq",
        "colab_type": "code",
        "colab": {
          "base_uri": "https://localhost:8080/",
          "height": 136
        },
        "outputId": "ed6ee921-ae76-40ee-b69b-7c5eb58bb156"
      },
      "source": [
        "!git clone https://github.com/tensorflow/tpu/"
      ],
      "execution_count": 1,
      "outputs": [
        {
          "output_type": "stream",
          "text": [
            "Cloning into 'tpu'...\n",
            "remote: Enumerating objects: 229, done.\u001b[K\n",
            "remote: Counting objects: 100% (229/229), done.\u001b[K\n",
            "remote: Compressing objects: 100% (166/166), done.\u001b[K\n",
            "remote: Total 9392 (delta 112), reused 144 (delta 57), pack-reused 9163\u001b[K\n",
            "Receiving objects: 100% (9392/9392), 24.21 MiB | 27.46 MiB/s, done.\n",
            "Resolving deltas: 100% (6707/6707), done.\n"
          ],
          "name": "stdout"
        }
      ]
    },
    {
      "cell_type": "markdown",
      "metadata": {
        "id": "RPbB7s8hPHfO",
        "colab_type": "text"
      },
      "source": [
        "## Import libraries"
      ]
    },
    {
      "cell_type": "code",
      "metadata": {
        "id": "6EtGbyNc8VgS",
        "colab_type": "code",
        "colab": {
          "base_uri": "https://localhost:8080/",
          "height": 34
        },
        "outputId": "3c31f1e6-c6a4-4f7c-c5f1-71b46b153a86"
      },
      "source": [
        "from IPython import display\n",
        "from PIL import Image\n",
        "import cv2\n",
        "import numpy as np\n",
        "%tensorflow_version 1.x\n",
        "import tensorflow as tf\n",
        "import sys\n",
        "sys.path.insert(0, 'tpu/models/official')\n",
        "sys.path.insert(0, 'tpu/models/official/mask_rcnn')\n",
        "import coco_metric\n",
        "from mask_rcnn.object_detection import visualization_utils"
      ],
      "execution_count": 2,
      "outputs": [
        {
          "output_type": "stream",
          "text": [
            "TensorFlow 1.x selected.\n"
          ],
          "name": "stdout"
        }
      ]
    },
    {
      "cell_type": "markdown",
      "metadata": {
        "id": "vkTSG22ePKkz",
        "colab_type": "text"
      },
      "source": [
        "## Load the COCO index mapping\n",
        "This Colab uses a pretrained checkpoint of the Mask R-CNN model that is trained using the COCO dataset. Here is the mapping between the indices that the model predicts and the categories in text."
      ]
    },
    {
      "cell_type": "code",
      "metadata": {
        "id": "_Q5r1zob93OF",
        "colab_type": "code",
        "colab": {}
      },
      "source": [
        "ID_MAPPING = {\n",
        "    1: 'person',\n",
        "   \n",
        "}\n",
        "category_index = {k: {'id': k, 'name': ID_MAPPING[k]} for k in ID_MAPPING}"
      ],
      "execution_count": 3,
      "outputs": []
    },
    {
      "cell_type": "markdown",
      "metadata": {
        "id": "HngQNsyjXmvF",
        "colab_type": "text"
      },
      "source": [
        "## Load an image\n",
        "Now, you can load an image. Use either the sample image included here, or update the field with an image of your choice."
      ]
    },
    {
      "cell_type": "code",
      "metadata": {
        "id": "2oZWLz4xXsyQ",
        "colab_type": "code",
        "colab": {
          "base_uri": "https://localhost:8080/",
          "height": 438
        },
        "outputId": "d45e8f6c-a7c9-4a42-af52-e4edd68f3ffe"
      },
      "source": [
        "image_path = 'Test_images/image (180).jpg'\n",
        "\n",
        "with open(image_path, 'rb') as f:\n",
        "  np_image_string = np.array([f.read()])\n",
        "  \n",
        "image = Image.open(image_path)\n",
        "width, height = image.size\n",
        "np_image = np.array(image.getdata()).reshape(height, width, 3).astype(np.uint8)\n",
        "\n",
        "display.display(display.Image(image_path, width=1024))\n",
        "count = 0"
      ],
      "execution_count": 4,
      "outputs": [
        {
          "output_type": "stream",
          "text": [
            "--2020-07-28 12:12:44--  https://upload.wikimedia.org/wikipedia/commons/thumb/0/08/Kitano_Street_Kobe01s5s4110.jpg/2560px-Kitano_Street_Kobe01s5s4110.jpg\n",
            "Resolving upload.wikimedia.org (upload.wikimedia.org)... 208.80.153.240, 2620:0:860:ed1a::2:b\n",
            "Connecting to upload.wikimedia.org (upload.wikimedia.org)|208.80.153.240|:443... connected.\n",
            "HTTP request sent, awaiting response... 200 OK\n",
            "Length: 1360583 (1.3M) [image/jpeg]\n",
            "Saving to: ‘test.jpg’\n",
            "\n",
            "\rtest.jpg              0%[                    ]       0  --.-KB/s               \rtest.jpg            100%[===================>]   1.30M  8.02MB/s    in 0.2s    \n",
            "\n",
            "2020-07-28 12:12:44 (8.02 MB/s) - ‘test.jpg’ saved [1360583/1360583]\n",
            "\n"
          ],
          "name": "stdout"
        },
        {
          "output_type": "error",
          "ename": "FileNotFoundError",
          "evalue": "ignored",
          "traceback": [
            "\u001b[0;31m---------------------------------------------------------------------------\u001b[0m",
            "\u001b[0;31mFileNotFoundError\u001b[0m                         Traceback (most recent call last)",
            "\u001b[0;32m<ipython-input-4-6d4a6cc7ee10>\u001b[0m in \u001b[0;36m<module>\u001b[0;34m()\u001b[0m\n\u001b[1;32m      2\u001b[0m \u001b[0mimage_path\u001b[0m \u001b[0;34m=\u001b[0m \u001b[0;34m'Test_images/image (180).jpg'\u001b[0m\u001b[0;34m\u001b[0m\u001b[0;34m\u001b[0m\u001b[0m\n\u001b[1;32m      3\u001b[0m \u001b[0;34m\u001b[0m\u001b[0m\n\u001b[0;32m----> 4\u001b[0;31m \u001b[0;32mwith\u001b[0m \u001b[0mopen\u001b[0m\u001b[0;34m(\u001b[0m\u001b[0mimage_path\u001b[0m\u001b[0;34m,\u001b[0m \u001b[0;34m'rb'\u001b[0m\u001b[0;34m)\u001b[0m \u001b[0;32mas\u001b[0m \u001b[0mf\u001b[0m\u001b[0;34m:\u001b[0m\u001b[0;34m\u001b[0m\u001b[0;34m\u001b[0m\u001b[0m\n\u001b[0m\u001b[1;32m      5\u001b[0m   \u001b[0mnp_image_string\u001b[0m \u001b[0;34m=\u001b[0m \u001b[0mnp\u001b[0m\u001b[0;34m.\u001b[0m\u001b[0marray\u001b[0m\u001b[0;34m(\u001b[0m\u001b[0;34m[\u001b[0m\u001b[0mf\u001b[0m\u001b[0;34m.\u001b[0m\u001b[0mread\u001b[0m\u001b[0;34m(\u001b[0m\u001b[0;34m)\u001b[0m\u001b[0;34m]\u001b[0m\u001b[0;34m)\u001b[0m\u001b[0;34m\u001b[0m\u001b[0;34m\u001b[0m\u001b[0m\n\u001b[1;32m      6\u001b[0m \u001b[0;34m\u001b[0m\u001b[0m\n",
            "\u001b[0;31mFileNotFoundError\u001b[0m: [Errno 2] No such file or directory: 'Test_images/image (180).jpg'"
          ]
        }
      ]
    },
    {
      "cell_type": "markdown",
      "metadata": {
        "id": "uwrFI4C9Vvam",
        "colab_type": "text"
      },
      "source": [
        "## Create a Tensorflow session\n",
        "Now let us create a Tensorflow session to run the inference. You can either connect to a TPU or a normal CPU backend."
      ]
    },
    {
      "cell_type": "code",
      "metadata": {
        "id": "X0G-tk6wakcr",
        "colab_type": "code",
        "colab": {}
      },
      "source": [
        "use_tpu = True #@param {type:\"boolean\"}\n",
        "if use_tpu:\n",
        "  import os\n",
        "  import pprint\n",
        "\n",
        "  assert 'COLAB_TPU_ADDR' in os.environ, 'ERROR: Not connected to a TPU runtime; please see the first cell in this notebook for instructions!'\n",
        "  TPU_ADDRESS = 'grpc://' + os.environ['COLAB_TPU_ADDR']\n",
        "  print('TPU address is', TPU_ADDRESS)\n",
        "\n",
        "  session = tf.Session(TPU_ADDRESS, graph=tf.Graph())\n",
        "  print('TPU devices:')\n",
        "  pprint.pprint(session.list_devices())\n",
        "else:\n",
        "  session = tf.Session(graph=tf.Graph())"
      ],
      "execution_count": null,
      "outputs": []
    },
    {
      "cell_type": "markdown",
      "metadata": {
        "id": "YtXyXw6EaKRj",
        "colab_type": "text"
      },
      "source": [
        "# Load the pretrained model\n",
        "Loading the COCO pretrained saved model from the public GCS bucket. "
      ]
    },
    {
      "cell_type": "code",
      "metadata": {
        "id": "6lCL-ZcwaJbA",
        "colab_type": "code",
        "colab": {}
      },
      "source": [
        "saved_model_dir = 'gs://cloud-tpu-checkpoints/mask-rcnn/1555659850' #@param {type:\"string\"}\n",
        "_ = tf.saved_model.loader.load(session, ['serve'], saved_model_dir)"
      ],
      "execution_count": null,
      "outputs": []
    },
    {
      "cell_type": "markdown",
      "metadata": {
        "id": "cjHuO49maf6R",
        "colab_type": "text"
      },
      "source": [
        "## Perform instance segmentation and retrieve the predictions\n",
        "Now let's run the inference and process the predictions from the model.\n"
      ]
    },
    {
      "cell_type": "code",
      "metadata": {
        "id": "qENTOHzZcaWC",
        "colab_type": "code",
        "colab": {}
      },
      "source": [
        "num_detections, detection_boxes, detection_classes, detection_scores, detection_masks, image_info = session.run(\n",
        "    ['NumDetections:0', 'DetectionBoxes:0', 'DetectionClasses:0', 'DetectionScores:0', 'DetectionMasks:0', 'ImageInfo:0'],\n",
        "    feed_dict={'Placeholder:0': np_image_string})\n",
        "#if detection_classes == 'person':\n",
        "num_detections = np.squeeze(num_detections.astype(np.int32), axis=(0,))\n",
        "detection_boxes = np.squeeze(detection_boxes * image_info[0, 2], axis=(0,))[0:num_detections]\n",
        "detection_scores = np.squeeze(detection_scores, axis=(0,))[0:num_detections]\n",
        "detection_classes = np.squeeze(detection_classes.astype(np.int32), axis=(0,))[0:num_detections]\n",
        "print(detection_classes)\n",
        "if detection_classes[0] == 1:\n",
        "  instance_masks = np.squeeze(detection_masks, axis=(0,))[0:num_detections]\n",
        "  ymin, xmin, ymax, xmax = np.split(detection_boxes, 4, axis=-1)\n",
        "  processed_boxes = np.concatenate([xmin, ymin, xmax - xmin, ymax - ymin], axis=-1)\n",
        "  segmentations = coco_metric.generate_segmentation_from_masks(instance_masks, processed_boxes, height, width)"
      ],
      "execution_count": null,
      "outputs": []
    },
    {
      "cell_type": "markdown",
      "metadata": {
        "id": "lLJqU56RdgjV",
        "colab_type": "text"
      },
      "source": [
        "## Visualize the detection results\n",
        "Time to check out the result!"
      ]
    },
    {
      "cell_type": "code",
      "metadata": {
        "id": "CuDqEsMzdHfF",
        "colab_type": "code",
        "colab": {}
      },
      "source": [
        "max_boxes_to_draw = 50   #@param {type:\"integer\"}\n",
        "min_score_thresh = 0.55    #@param {type:\"slider\", min:0, max:1, step:0.01}\n",
        "\n",
        "image_with_detections = visualization_utils.visualize_boxes_and_labels_on_image_array(\n",
        "    np_image,\n",
        "    detection_boxes,\n",
        "    detection_classes,\n",
        "    detection_scores,\n",
        "    category_index,\n",
        "    instance_masks=segmentations,\n",
        "    use_normalized_coordinates=False,\n",
        "    max_boxes_to_draw=max_boxes_to_draw,\n",
        "    min_score_thresh=min_score_thresh)\n",
        "output_image_path = 'test_results.jpg'\n",
        "Image.fromarray(image_with_detections.astype(np.uint8)).save(output_image_path)\n",
        "display.display(display.Image(output_image_path, width=1024))"
      ],
      "execution_count": null,
      "outputs": []
    }
  ]
}